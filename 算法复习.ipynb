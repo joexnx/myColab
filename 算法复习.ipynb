{
  "nbformat": 4,
  "nbformat_minor": 0,
  "metadata": {
    "colab": {
      "provenance": [],
      "toc_visible": true,
      "authorship_tag": "ABX9TyNBJNs4YkNO1FWl2YQg5K8U",
      "include_colab_link": true
    },
    "kernelspec": {
      "name": "python3",
      "display_name": "Python 3"
    },
    "language_info": {
      "name": "python"
    }
  },
  "cells": [
    {
      "cell_type": "markdown",
      "metadata": {
        "id": "view-in-github",
        "colab_type": "text"
      },
      "source": [
        "<a href=\"https://colab.research.google.com/github/joexnx/myColab/blob/main/%E7%AE%97%E6%B3%95%E5%A4%8D%E4%B9%A0.ipynb\" target=\"_parent\"><img src=\"https://colab.research.google.com/assets/colab-badge.svg\" alt=\"Open In Colab\"/></a>"
      ]
    },
    {
      "cell_type": "markdown",
      "source": [
        "# A. Alogrithm Analysis"
      ],
      "metadata": {
        "id": "QkrTRBMv-xoi"
      }
    },
    {
      "cell_type": "code",
      "source": [
        "import numpy as np\n",
        "import logging\n",
        "LOG_FORMAT = \"%(asctime)s - %(levelname)s - %(message)s\"\n",
        "logging.getLogger().setLevel(logging.WARN)\n",
        "from typing import *\n",
        "import math\n",
        "import heapq"
      ],
      "metadata": {
        "id": "k6M1RQU9AUdm"
      },
      "execution_count": null,
      "outputs": []
    },
    {
      "cell_type": "markdown",
      "source": [
        "*Please Answering the questions following the above patterns:*\n",
        "1. Brief Idea\n",
        "2. Method\n",
        "3. Solution Space Tree / State Transition Equation (Optional)\n",
        "4. Pseudocode\n",
        "5. Test cases\n",
        "6. Time Complexity Analisis\n",
        "\n"
      ],
      "metadata": {
        "id": "lhsYAIwSt5o7"
      }
    },
    {
      "cell_type": "markdown",
      "source": [
        "### 1.Binary Search \n",
        "\n",
        "\n",
        "\n",
        "Divide and Conquer"
      ],
      "metadata": {
        "id": "l-T8mhq0uztE"
      }
    },
    {
      "cell_type": "code",
      "source": [
        "def binary_search(nums, target):\n",
        "    low = 0\n",
        "    high = len(nums) - 1\n",
        "    while low <= high:\n",
        "        mid = (low + high) // 2\n",
        "        mid_num = nums[mid]\n",
        "        logging.info(f\"{low} {high} {mid}\")\n",
        "        if target == mid_num:\n",
        "            return mid\n",
        "        elif target < mid_num:\n",
        "            high = mid - 1\n",
        "        else:\n",
        "            low = mid + 1\n",
        "    return -1"
      ],
      "metadata": {
        "id": "SSoFtQWft4xn"
      },
      "execution_count": null,
      "outputs": []
    },
    {
      "cell_type": "code",
      "source": [
        "binary_search([1,2,5,6,7,9,10], 9)"
      ],
      "metadata": {
        "colab": {
          "base_uri": "https://localhost:8080/"
        },
        "id": "45Zr6Pr5wH2k",
        "outputId": "dcb2de20-9bb2-4e92-94e0-cab90fb5dc67"
      },
      "execution_count": null,
      "outputs": [
        {
          "output_type": "execute_result",
          "data": {
            "text/plain": [
              "5"
            ]
          },
          "metadata": {},
          "execution_count": 94
        }
      ]
    },
    {
      "cell_type": "markdown",
      "source": [
        "$O(\\log{n})$"
      ],
      "metadata": {
        "id": "9Nubspbb-fO1"
      }
    },
    {
      "cell_type": "markdown",
      "source": [
        "## 2.Backpack Problem"
      ],
      "metadata": {
        "id": "mZ2WdwsMAqLT"
      }
    },
    {
      "cell_type": "markdown",
      "source": [
        "### 2.1 Complete Backpack Problem"
      ],
      "metadata": {
        "id": "5jxsactKBP5O"
      }
    },
    {
      "cell_type": "markdown",
      "source": [
        "#### 2.1.1 Greedy\n"
      ],
      "metadata": {
        "id": "X57y_3iwBZbG"
      }
    },
    {
      "cell_type": "code",
      "source": [
        "def knapsack(cap: int, values_and_weights: List[Tuple[int, int, int]]):\n",
        "    r = dict()\n",
        "    ll = len(values_and_weights)\n",
        "    values_and_weights.sort(key=lambda x: x[1]/ x[2], reverse=True)\n",
        "    logging.info(f\"{values_and_weights}\")\n",
        "    remain = cap\n",
        "    j = None\n",
        "    for i in range(ll):\n",
        "        if values_and_weights[i][2] > remain:\n",
        "            if remain > 0:\n",
        "                j = values_and_weights[i]\n",
        "            break\n",
        "        else:\n",
        "            r[values_and_weights[i][0]] = 1\n",
        "            remain -= values_and_weights[i][2]\n",
        "    if j:\n",
        "        r[j[0]] = remain / j[2] \n",
        "    return r"
      ],
      "metadata": {
        "id": "3PrdiqM4C4-y"
      },
      "execution_count": null,
      "outputs": []
    },
    {
      "cell_type": "code",
      "source": [
        "knapsack(10, [(1,20,1),(2,30,6),(3,40,2),(4,1,8),(5,100,2)])"
      ],
      "metadata": {
        "colab": {
          "base_uri": "https://localhost:8080/"
        },
        "id": "XLoZ1HrPFc3n",
        "outputId": "364ee663-971d-48cf-eb67-3ed81d0327e5"
      },
      "execution_count": null,
      "outputs": [
        {
          "output_type": "execute_result",
          "data": {
            "text/plain": [
              "{5: 1, 1: 1, 3: 1, 2: 0.8333333333333334}"
            ]
          },
          "metadata": {},
          "execution_count": 96
        }
      ]
    },
    {
      "cell_type": "markdown",
      "source": [
        "$O(n)$"
      ],
      "metadata": {
        "id": "iK-QQ2wxHa_n"
      }
    },
    {
      "cell_type": "markdown",
      "source": [
        "### 2.2 0-1 Backpack Problem"
      ],
      "metadata": {
        "id": "HQXTvHNuBUim"
      }
    },
    {
      "cell_type": "markdown",
      "source": [
        "#### 2.2.1 Dynamic Programming"
      ],
      "metadata": {
        "id": "DPUn-rISB41S"
      }
    },
    {
      "cell_type": "markdown",
      "source": [
        "$\\begin{equation}\n",
        "dp[i, j] = \\begin{cases}\n",
        " dp[i][j-1], & w[j] > i \\\\\n",
        "max(dp[i, j-1], dp[i-w[j], j-1] + v[j]), & w[j] \\leq i\n",
        "\\end{cases}\n",
        "\\end{equation}\n",
        "$"
      ],
      "metadata": {
        "id": "2ibd0Q2uuRKD"
      }
    },
    {
      "cell_type": "code",
      "source": [
        "def knapsack_01_dp(cap: int, values: List[int], weights: List[int]):\n",
        "    ll = len(values)\n",
        "    dp = np.zeros((cap + 1, ll + 1), dtype=int)\n",
        "    for j in range(1, ll+1):\n",
        "        for i in range(1, cap+1):\n",
        "            if weights[j-1] > i:\n",
        "                dp[i][j] = dp[i][j-1]\n",
        "            else:\n",
        "                dp[i][j] = max(dp[i][j-1], dp[i-weights[j-1]][j-1] + values[j-1])\n",
        "    return dp.max()"
      ],
      "metadata": {
        "id": "5hmf7hTpoexF"
      },
      "execution_count": null,
      "outputs": []
    },
    {
      "cell_type": "code",
      "source": [
        "knapsack_01_dp(10, [2,3,8],[2,5,8],)"
      ],
      "metadata": {
        "colab": {
          "base_uri": "https://localhost:8080/"
        },
        "id": "Ny3d7PbWsWVB",
        "outputId": "14b246e8-2274-428d-98dd-78508cbc9e47"
      },
      "execution_count": null,
      "outputs": [
        {
          "output_type": "execute_result",
          "data": {
            "text/plain": [
              "10"
            ]
          },
          "metadata": {},
          "execution_count": 98
        }
      ]
    },
    {
      "cell_type": "markdown",
      "source": [
        "#### 2.2.2 Branch and Bound(*)"
      ],
      "metadata": {
        "id": "0s7SRT5sB97Y"
      }
    },
    {
      "cell_type": "code",
      "source": [
        "# raise NotImplemented()"
      ],
      "metadata": {
        "id": "d2XIdupseWHq"
      },
      "execution_count": null,
      "outputs": []
    },
    {
      "cell_type": "markdown",
      "source": [
        "#### 2.2.3 Backtracking"
      ],
      "metadata": {
        "id": "8KNu8CgcesAE"
      }
    },
    {
      "cell_type": "code",
      "source": [
        "def knapsack_01_backtracking(cap: int, values: List[int], weights: List[int]):\n",
        "    r = list()\n",
        "    ll = len(values)\n",
        "    def backtracking(his, depth, value, weight):\n",
        "        # if weight > cap:\n",
        "        #     return \n",
        "        if depth == ll:\n",
        "            r.append(his[:])\n",
        "            return\n",
        "        backtracking(his + [1], depth + 1, value+values[depth], weight+weights[depth])\n",
        "        backtracking(his + [0], depth + 1, value, weight)\n",
        "    backtracking([], 0, 0, 0)\n",
        "    return r"
      ],
      "metadata": {
        "id": "7PiJUpvzev75"
      },
      "execution_count": null,
      "outputs": []
    },
    {
      "cell_type": "code",
      "source": [
        "knapsack_01_backtracking(9, [6,10,3],[3,4,4])"
      ],
      "metadata": {
        "id": "iGqiQhMYh58y",
        "colab": {
          "base_uri": "https://localhost:8080/"
        },
        "outputId": "722d7993-12af-49c0-f02d-af968e65e126"
      },
      "execution_count": null,
      "outputs": [
        {
          "output_type": "execute_result",
          "data": {
            "text/plain": [
              "[[1, 1, 1],\n",
              " [1, 1, 0],\n",
              " [1, 0, 1],\n",
              " [1, 0, 0],\n",
              " [0, 1, 1],\n",
              " [0, 1, 0],\n",
              " [0, 0, 1],\n",
              " [0, 0, 0]]"
            ]
          },
          "metadata": {},
          "execution_count": 101
        }
      ]
    },
    {
      "cell_type": "markdown",
      "source": [
        "## 3.Activity Selection"
      ],
      "metadata": {
        "id": "hgAGLhuvIaYp"
      }
    },
    {
      "cell_type": "markdown",
      "source": [
        "#### 3.1 Greedy"
      ],
      "metadata": {
        "id": "U6QobnFpIfRX"
      }
    },
    {
      "cell_type": "code",
      "source": [
        "from operator import itemgetter\n",
        "def select_activity_greedy(acts: List[Tuple[int, int]]) :\n",
        "    if not acts:\n",
        "        return []\n",
        "    acts.sort(key=itemgetter(1))\n",
        "    r = [acts[0]]\n",
        "    end = acts[0][1]\n",
        "    for a in acts[1:]:\n",
        "        if end <= a[0]:\n",
        "            r.append(a)\n",
        "            end = a[1]\n",
        "    return r"
      ],
      "metadata": {
        "id": "nQZzARaYIumZ"
      },
      "execution_count": null,
      "outputs": []
    },
    {
      "cell_type": "code",
      "source": [
        "select_activity_greedy([(1,4),(3,5),(4,6),(2,10),(8,20)])"
      ],
      "metadata": {
        "id": "ocfxPcHAJ9AJ",
        "colab": {
          "base_uri": "https://localhost:8080/"
        },
        "outputId": "e84999b0-d3e3-4958-94ba-ad9498e5e16e"
      },
      "execution_count": null,
      "outputs": [
        {
          "output_type": "execute_result",
          "data": {
            "text/plain": [
              "[(1, 4), (4, 6), (8, 20)]"
            ]
          },
          "metadata": {},
          "execution_count": 103
        }
      ]
    },
    {
      "cell_type": "markdown",
      "source": [
        "$O(\\log{n})$"
      ],
      "metadata": {
        "id": "me637zPJJ79J"
      }
    },
    {
      "cell_type": "markdown",
      "source": [
        "#### 3.2 Dynamic Programming"
      ],
      "metadata": {
        "id": "4b6ChM84vbfW"
      }
    },
    {
      "cell_type": "code",
      "source": [
        "def select_activity_dp(acts: List[Tuple[int, int]]) :\n",
        "    if not acts:\n",
        "        return []\n",
        "    acts.sort(key=itemgetter(0))\n",
        "    ll = len(acts)\n",
        "    dp = [1 for _ in range(ll)]\n",
        "    for i in range(1, ll):\n",
        "        for j in range(i):\n",
        "            if acts[j][1] <= acts[i][0]:\n",
        "                dp[i] = max(dp[j] + 1, dp[i])\n",
        "    return ll - max(dp)"
      ],
      "metadata": {
        "id": "E2iDJ3kYvan-"
      },
      "execution_count": null,
      "outputs": []
    },
    {
      "cell_type": "markdown",
      "source": [
        "## 4.Merge Sort\n",
        "\n",
        "Divide and Conquer"
      ],
      "metadata": {
        "id": "CCFh_m42LY8a"
      }
    },
    {
      "cell_type": "code",
      "source": [
        "def merge(nums, low, mid, high):\n",
        "    p1 = low\n",
        "    p2 = mid+1\n",
        "    temp = nums[:]\n",
        "    c = low\n",
        "    while p1 <= mid and p2 <= high:\n",
        "        if temp[p1] <= temp[p2]:\n",
        "            nums[c] = temp[p1]\n",
        "            p1 += 1\n",
        "        else:\n",
        "            nums[c] = temp[p2]\n",
        "            p2 += 1\n",
        "        c += 1\n",
        "    if p1 <= mid:\n",
        "        nums[c: high + 1] = temp[p1: mid+1]\n",
        "    if p2 <= high:\n",
        "        nums[c: high + 1] = temp[p2: high+1]\n",
        "\n",
        "def merge_sort(nums, low, high):\n",
        "    if low < high:\n",
        "        mid = (low + high) // 2\n",
        "        merge_sort(nums, low, mid)\n",
        "        merge_sort(nums, mid+1, high)\n",
        "        merge(nums, low, mid, high)"
      ],
      "metadata": {
        "id": "np9P443VLXhq"
      },
      "execution_count": null,
      "outputs": []
    },
    {
      "cell_type": "code",
      "source": [
        "nums = [1,5,2,7,28]\n",
        "merge_sort(nums,0,len(nums)-1)\n",
        "nums"
      ],
      "metadata": {
        "id": "dTeC3se9P3UO",
        "colab": {
          "base_uri": "https://localhost:8080/"
        },
        "outputId": "17f9ac07-e60e-4822-e873-eec2b6779ab6"
      },
      "execution_count": null,
      "outputs": [
        {
          "output_type": "execute_result",
          "data": {
            "text/plain": [
              "[1, 2, 5, 7, 28]"
            ]
          },
          "metadata": {},
          "execution_count": 106
        }
      ]
    },
    {
      "cell_type": "markdown",
      "source": [
        "$O(n^2)$"
      ],
      "metadata": {
        "id": "alq4NyrTSV28"
      }
    },
    {
      "cell_type": "markdown",
      "source": [
        "## 6.Radix Sort\n",
        "Buckets"
      ],
      "metadata": {
        "id": "kLh2MTKOSiDh"
      }
    },
    {
      "cell_type": "code",
      "source": [
        "def radix_sort(a: List[int]):\n",
        "    nums = a[:]\n",
        "    buckets = {i : [] for i in range(0, 10)}\n",
        "    radix = 1\n",
        "    while True:\n",
        "        for num in nums:\n",
        "            buckets[num%(10**radix)//(10**(radix-1))].append(num)\n",
        "        nums = []\n",
        "        logging.debug(buckets)\n",
        "        for i in range(0,10):\n",
        "            nums.extend(buckets[i])\n",
        "            if i == 0 and len(buckets[0]) == len(a) and all(n < 10 ** radix for n in buckets[0]):\n",
        "                return nums\n",
        "            buckets[i].clear()\n",
        "        radix += 1\n",
        "        logging.debug(nums)"
      ],
      "metadata": {
        "id": "VTanPC8WSnOJ"
      },
      "execution_count": null,
      "outputs": []
    },
    {
      "cell_type": "code",
      "source": [
        "nums = [1500,45200,3200,100,200000]\n",
        "radix_sort(nums)"
      ],
      "metadata": {
        "id": "lgAYCXFQUMip",
        "colab": {
          "base_uri": "https://localhost:8080/"
        },
        "outputId": "763eafef-b342-4199-dbc4-36955e633d0b"
      },
      "execution_count": null,
      "outputs": [
        {
          "output_type": "execute_result",
          "data": {
            "text/plain": [
              "[100, 1500, 3200, 45200, 200000]"
            ]
          },
          "metadata": {},
          "execution_count": 108
        }
      ]
    },
    {
      "cell_type": "markdown",
      "source": [
        "$O(n)$"
      ],
      "metadata": {
        "id": "pwRmPOiiZziT"
      }
    },
    {
      "cell_type": "markdown",
      "source": [
        "## 8.Subnet Sum(Coin Exchange Problem)\n"
      ],
      "metadata": {
        "id": "gjwG919UaDfo"
      }
    },
    {
      "cell_type": "markdown",
      "source": [
        "#### 8.1 Backtracking"
      ],
      "metadata": {
        "id": "gt4GJhv1aOrk"
      }
    },
    {
      "cell_type": "code",
      "source": [
        "def coin_exchange_backtracking(coins: List[int], target) -> List[List[int]]:\n",
        "    r = list()\n",
        "    coins.sort()\n",
        "    def backtracking(his, sum, last):\n",
        "        if sum == target:\n",
        "            r.append(his[:])\n",
        "        elif sum > target:\n",
        "            return\n",
        "        else:\n",
        "            for c in coins:\n",
        "                if last > c:\n",
        "                    continue\n",
        "                his.append(c)\n",
        "                backtracking(his, sum + c, c)\n",
        "                his.pop()\n",
        "    backtracking([], 0, -1)\n",
        "    return r"
      ],
      "metadata": {
        "id": "26lxzAtqaZ4T"
      },
      "execution_count": null,
      "outputs": []
    },
    {
      "cell_type": "code",
      "source": [
        "coin_exchange_backtracking([1,2,3], 4)"
      ],
      "metadata": {
        "id": "VzPfZcb6bpm8",
        "colab": {
          "base_uri": "https://localhost:8080/"
        },
        "outputId": "85aae515-df72-4b8a-dfc1-2eda370967f7"
      },
      "execution_count": null,
      "outputs": [
        {
          "output_type": "execute_result",
          "data": {
            "text/plain": [
              "[[1, 1, 1, 1], [1, 1, 2], [1, 3], [2, 2]]"
            ]
          },
          "metadata": {},
          "execution_count": 110
        }
      ]
    },
    {
      "cell_type": "markdown",
      "source": [
        "#### 8.2 Dynamic Programming(*)"
      ],
      "metadata": {
        "id": "r8FFsKllhixF"
      }
    },
    {
      "cell_type": "code",
      "source": [],
      "metadata": {
        "id": "bLEgImYdhoLQ"
      },
      "execution_count": null,
      "outputs": []
    },
    {
      "cell_type": "markdown",
      "source": [
        "#### 8.3 Greedy(*)"
      ],
      "metadata": {
        "id": "gO4YTOvbhoot"
      }
    },
    {
      "cell_type": "markdown",
      "source": [
        "## 8.Traveling Salesman Problem(*)\n",
        "\n",
        "Branch and Bound"
      ],
      "metadata": {
        "id": "Ej_owrjql10u"
      }
    },
    {
      "cell_type": "code",
      "source": [
        "inf = float('inf')\n",
        "\n",
        "class Node(object):\n",
        "    def __init__(self, s:int):\n",
        "        self.s = s\n",
        "        self.x = list()\n",
        "        self.cc = 0\n",
        "        self.rc = inf\n",
        "        self.lb = inf\n",
        "\n",
        "    def __lt__(self, other):\n",
        "        return self.lb < other.lb\n",
        " \n",
        "    def __gt__(self, other):\n",
        "        return other.__lt__(self)\n",
        " \n",
        "    def __eq__(self, other):\n",
        "        return self.lb == other.lb\n",
        " \n",
        "    def __ne__(self, other):\n",
        "        return not self.__eq__(other)\n",
        "\n",
        "    def __str__(self):\n",
        "        return f\"s:{self.s}, x: {self.x}, cc: {self.cc}, rc: {self.rc}, lb: {self.lb}\"\n",
        "\n",
        "def tsp(graph):\n",
        "\n",
        "    ll = len(graph)\n",
        "    minout = [inf for _ in range(ll)]\n",
        "    summin = 0\n",
        "    bestw = inf\n",
        "    q = []\n",
        "\n",
        "    for i in range(ll):\n",
        "        minout[i] = graph[i,:].min()\n",
        "        if minout[i] >= inf:\n",
        "            return inf\n",
        "        summin += minout[i]\n",
        "\n",
        "    n = Node(0)\n",
        "    n.x = [i+1 for i in range(ll)]\n",
        "    n.rc = summin\n",
        "    n.lb = n.rc + n.cc\n",
        "\n",
        "        \n",
        "    while n.s < ll - 1:\n",
        "        # print(n)\n",
        "        if n.s == ll - 2:\n",
        "            c1 = graph[n.x[ll-2]-1][n.x[ll-1]-1]\n",
        "            c2 = graph[n.x[ll-1]-1][0]\n",
        "            if c1 != inf and c2 != inf and n.cc + c1 + c2 < bestw:\n",
        "                bestw = n.cc + c1 + c2\n",
        "                n.lb = bestw\n",
        "                n.cc = bestw\n",
        "                n.s += 1\n",
        "                heapq.heappush(q, n) \n",
        "        else:\n",
        "            for i in range(n.s + 1, ll):\n",
        "                c3 = graph[n.x[n.s]-1, n.x[i]-1]\n",
        "                if c3 != inf:\n",
        "                    cc = n.cc + c3\n",
        "                    rc = n.rc - minout[n.x[n.s] - 1]\n",
        "                    b = cc + rc\n",
        "                    if b <= bestw:\n",
        "                        nn = Node(n.s + 1)\n",
        "                        nn.x = n.x.copy()\n",
        "                        nn.x[n.s+1] = n.x[i]\n",
        "                        nn.x[i] = n.x[n.s + 1]\n",
        "                        nn.cc = cc\n",
        "                        nn.lb = b\n",
        "                        nn.rc = rc\n",
        "                        heapq.heappush(q, nn)\n",
        "        if not q:\n",
        "            break\n",
        "        n = heapq.heappop(q)\n",
        "        \n",
        "\n",
        "    return int(bestw)        "
      ],
      "metadata": {
        "id": "RMAl5BR1l67U"
      },
      "execution_count": null,
      "outputs": []
    },
    {
      "cell_type": "code",
      "source": [
        "tsp(np.array([[inf, 10, 15, 20],[10, inf, 35, 25],[15, 35, inf, 30],[20,25,30, inf]]))"
      ],
      "metadata": {
        "colab": {
          "base_uri": "https://localhost:8080/"
        },
        "id": "5Vkys7pa9A9L",
        "outputId": "1eb4e40b-d52a-437f-ebe0-66a19e9d377e"
      },
      "execution_count": null,
      "outputs": [
        {
          "output_type": "execute_result",
          "data": {
            "text/plain": [
              "80"
            ]
          },
          "metadata": {},
          "execution_count": 39
        }
      ]
    },
    {
      "cell_type": "code",
      "source": [
        "tsp(np.array([[inf,5,61,34,12],[57, inf, 43, 20, 7],[39, 42, inf, 8, 21],[6,50,42, inf,8],[41, 26,10, 35, inf]]))"
      ],
      "metadata": {
        "id": "im1J_D2GhGcv",
        "outputId": "7c1dc271-1e00-44ed-b52c-d248bb122783",
        "colab": {
          "base_uri": "https://localhost:8080/"
        }
      },
      "execution_count": null,
      "outputs": [
        {
          "output_type": "execute_result",
          "data": {
            "text/plain": [
              "36"
            ]
          },
          "metadata": {},
          "execution_count": 40
        }
      ]
    },
    {
      "cell_type": "markdown",
      "source": [
        "## 9.Max Number Triangle\n",
        "\n",
        "$\n",
        "dp[i,j] = max(dp[i+1, j], dp[i+1, j+1]) + num[i,j]\n",
        " $\n",
        "\n",
        "Leetcode: <a href=\"https://leetcode.cn/problems/triangle/description/\">120. 三角形最小路径和</a>"
      ],
      "metadata": {
        "id": "_C8KbdTlmCxI"
      }
    },
    {
      "cell_type": "code",
      "source": [
        "def number_triangle(triangle: List[List[int]]) -> int :\n",
        "    for index in range(len(triangle)-1, 0 , -1):\n",
        "        bottom_row = triangle[index]\n",
        "        top_row = triangle[index-1]\n",
        "        for row_index in range(len(top_row)):\n",
        "            top_row[row_index] += max(bottom_row[row_index], bottom_row[row_index + 1])\n",
        "    return triangle[0][0]"
      ],
      "metadata": {
        "id": "Ff6Ybt-JmHL2"
      },
      "execution_count": null,
      "outputs": []
    },
    {
      "cell_type": "code",
      "source": [
        "number_triangle([[2],[3,4],[6,5,7],[4,1,8,3]])"
      ],
      "metadata": {
        "colab": {
          "base_uri": "https://localhost:8080/"
        },
        "id": "2NdEev-Ewn9v",
        "outputId": "a41b4d94-9ab4-4a15-d3d2-96946223c88a"
      },
      "execution_count": null,
      "outputs": [
        {
          "output_type": "execute_result",
          "data": {
            "text/plain": [
              "21"
            ]
          },
          "metadata": {},
          "execution_count": 114
        }
      ]
    },
    {
      "cell_type": "markdown",
      "source": [
        "## 10.Graph Coloring Problem\n",
        "\n",
        "Backtracking"
      ],
      "metadata": {
        "id": "To98_M8jmIMv"
      }
    },
    {
      "cell_type": "code",
      "source": [
        "def graph_coloring(graph) -> int:\n",
        "    ll = len(graph)\n",
        "\n",
        "    def neighboor(i):\n",
        "        for j in range(ll): \n",
        "            if graph[i, j] and j != i:\n",
        "                yield j\n",
        "    \n",
        "    colors = [i for i in range(ll)]\n",
        "    min_c = []\n",
        "\n",
        "    def backtracking(visited: Dict[int, int], l):\n",
        "        if l == ll:\n",
        "            min_c.append(len(set(visited.values())))\n",
        "            return\n",
        "        invalid_color = set(visited[n] for n in neighboor(l) if visited.__contains__(n))\n",
        "        for c in colors:\n",
        "            if c in invalid_color:\n",
        "                continue\n",
        "            visited[l] = c\n",
        "            backtracking(visited, l + 1)\n",
        "            del visited[l]\n",
        "            \n",
        "    backtracking(dict(),0)\n",
        "    return min(min_c)"
      ],
      "metadata": {
        "id": "9blmBxs2mSAA"
      },
      "execution_count": null,
      "outputs": []
    },
    {
      "cell_type": "code",
      "source": [
        "g = np.array([[1,1,0,0,0],[1,1,1,1,0],[0,1,1,0,1],[0,1,0,1,1],[0,0,1,1,1]])\n",
        "graph_coloring(g)"
      ],
      "metadata": {
        "colab": {
          "base_uri": "https://localhost:8080/"
        },
        "id": "O4kNRXUatAgT",
        "outputId": "f2cc4cca-0d07-47c0-c0f2-f3274e5a49b0"
      },
      "execution_count": null,
      "outputs": [
        {
          "output_type": "execute_result",
          "data": {
            "text/plain": [
              "2"
            ]
          },
          "metadata": {},
          "execution_count": 116
        }
      ]
    },
    {
      "cell_type": "markdown",
      "source": [
        "$O(m^n)$"
      ],
      "metadata": {
        "id": "Bn93KZhAzeUp"
      }
    },
    {
      "cell_type": "markdown",
      "source": [
        "## 13.Matrix continous product"
      ],
      "metadata": {
        "id": "FXvxhH592HeV"
      }
    },
    {
      "cell_type": "markdown",
      "source": [
        "taking $A[i \\dots j]$ represents product number of $A[i] \\cdots A[j]$  \n",
        "using $A[k]$ spilt $A[i] \\cdots A[j]$, namely, $ A[i] \\cdots A[k]$ and $A[k+1] \\cdots A[j]$ when $i \\leq k \\lt j$  \n",
        "then, optiomzing $A[i \\dots k] $ and $A[k+1 \\dots j] $ is the subproblems of  optiomzing $A[i \\dots j]$  \n"
      ],
      "metadata": {
        "id": "_d6KoZRgQDZV"
      }
    },
    {
      "cell_type": "markdown",
      "source": [
        "\\begin{equation}\n",
        "A[i,j] =\n",
        "\\begin{cases}\n",
        "0, & i = j \\\\\n",
        "\\min\\limits_{i \\leq k \\lt j} \\{ A[i,k] + A[k+1, j] + p_{i-1} p_k p_j\\}, &  i \\lt j\n",
        "\\end{cases}\n",
        "\\end{equation}\n"
      ],
      "metadata": {
        "id": "n6Axhpc9zsJm"
      }
    },
    {
      "cell_type": "markdown",
      "source": [
        "Table $s[n][n]$ saves the split node's index, which means when optimzing $A[n \\dots m]$, $s[n][m] = A[k]$ is the split node between $A[n] \\cdots A[m]$"
      ],
      "metadata": {
        "id": "Qki88xlzSCNR"
      }
    },
    {
      "cell_type": "code",
      "execution_count": null,
      "metadata": {
        "id": "-BREU-1rpIil"
      },
      "outputs": [],
      "source": [
        "def matrix_continous_product(matrixs) -> int:\n",
        "    chain = []\n",
        "    def output_cal_chain(s, i, j): # s[i, j]=k split the A[i ... j] into A[i ... k] and A[k + 1 ... j]\n",
        "        if i == j: \n",
        "            chain.append(f\"A{i}\")\n",
        "        else:\n",
        "            chain.append(\"(\")\n",
        "            output_cal_chain(s, i, s[i, j])\n",
        "            output_cal_chain(s, s[i, j]+1, j)\n",
        "            chain.append(\")\")\n",
        "\n",
        "    ll = len(matrixs)\n",
        "    dp = np.zeros((ll,ll), dtype=int)\n",
        "    s = dp.copy()\n",
        "\n",
        "    for i in range(1,ll):\n",
        "        for r in range(1, ll-i):\n",
        "            c = i + r\n",
        "            minn = float('inf')\n",
        "            minn_k = -1\n",
        "            for k in range(r, c):\n",
        "                temp = dp[r,k] + dp[k+1,c] + matrixs[r-1] * matrixs[k] * matrixs[c]\n",
        "                if temp < minn:\n",
        "                    minn = temp\n",
        "                    minn_k = k\n",
        "            s[r, c] = minn_k\n",
        "            dp[r,c] = minn\n",
        "    logging.info(dp)\n",
        "    output_cal_chain(s, 1, ll-1)\n",
        "    # print(dp, s)\n",
        "    return \"\".join(chain), dp[1, -1] "
      ]
    },
    {
      "cell_type": "code",
      "source": [
        "m = [30,35,15,5,10,20,25]\n",
        "matrix_continous_product(m)"
      ],
      "metadata": {
        "id": "PHcUNDS-6yKu",
        "colab": {
          "base_uri": "https://localhost:8080/"
        },
        "outputId": "5a8edf83-616f-49d6-8ece-2175ee407dd7"
      },
      "execution_count": null,
      "outputs": [
        {
          "output_type": "execute_result",
          "data": {
            "text/plain": [
              "('((A1(A2A3))((A4A5)A6))', 15125)"
            ]
          },
          "metadata": {},
          "execution_count": 118
        }
      ]
    },
    {
      "cell_type": "markdown",
      "source": [
        "$ O(n^3) $"
      ],
      "metadata": {
        "id": "IimkpKpSKg9_"
      }
    },
    {
      "cell_type": "markdown",
      "source": [
        "## 14.Job Assignment Problem(*)\n",
        "\n",
        "Branch and Bound"
      ],
      "metadata": {
        "id": "jvR4dmKVsdf0"
      }
    },
    {
      "cell_type": "code",
      "source": [
        "# raise NotImplemented()"
      ],
      "metadata": {
        "id": "D1MavJHpso_6"
      },
      "execution_count": null,
      "outputs": []
    },
    {
      "cell_type": "markdown",
      "source": [
        "## 15.Deleting Number\n",
        "\n",
        "Greedy Algorithm"
      ],
      "metadata": {
        "id": "yA18ByN6XJ3p"
      }
    },
    {
      "cell_type": "code",
      "source": [
        "def deleting_number(num, deleting):\n",
        "    digit_list = list(str(num))\n",
        "\n",
        "    for _ in range(deleting):\n",
        "        minn = '0'\n",
        "        minn_index = 0\n",
        "        for i in range(len(digit_list)):\n",
        "            if digit_list[i] == \"\":\n",
        "                continue\n",
        "            if digit_list[i] > minn:\n",
        "                minn_index = i\n",
        "                minn = digit_list[i]\n",
        "        digit_list[minn_index] = \"\"\n",
        "\n",
        "    return int(\"\".join(digit_list))"
      ],
      "metadata": {
        "id": "MO3n0yjF9WKD"
      },
      "execution_count": null,
      "outputs": []
    },
    {
      "cell_type": "code",
      "source": [
        "deleting_number(9949537897897987987983223253536452, 14)"
      ],
      "metadata": {
        "id": "NC5GXYrTATJt",
        "colab": {
          "base_uri": "https://localhost:8080/"
        },
        "outputId": "ef2ce61e-7a37-4f3c-92a5-c09928d64cf3"
      },
      "execution_count": null,
      "outputs": [
        {
          "output_type": "execute_result",
          "data": {
            "text/plain": [
              "45377773223253536452"
            ]
          },
          "metadata": {},
          "execution_count": 121
        }
      ]
    },
    {
      "cell_type": "markdown",
      "source": [
        "## 15.Huffman Code Problem"
      ],
      "metadata": {
        "id": "qCZxWw4NsTWC"
      }
    },
    {
      "cell_type": "code",
      "source": [
        "import heapq\n",
        "\n",
        "class Node(object):\n",
        "    def __init__(self, info=None, value=None,left = None, right = None):\n",
        "        self.value = value\n",
        "        self.info = info\n",
        "        self.left = left\n",
        "        self.right = right\n",
        "\n",
        "    def __lt__(self, other):\n",
        "        return self.value < other.value\n",
        " \n",
        "    def __gt__(self, other):\n",
        "        return other.__lt__(self)\n",
        " \n",
        "    def __eq__(self, other):\n",
        "        return self.value == other.value\n",
        " \n",
        "    def __ne__(self, other):\n",
        "        return not self.__eq__(other)\n",
        "\n",
        "def huffman_code(characters: Dict[chr, int]):\n",
        "\n",
        "    def build_tree() -> Node:\n",
        "        heap = []\n",
        "        for k, v in characters.items():\n",
        "            heapq.heappush(heap, Node(k, v))\n",
        "        while len(heap) > 1:\n",
        "            left = heapq.heappop(heap)\n",
        "            right = heapq.heappop(heap)\n",
        "            parent = Node(info=None, value=left.value + right.value, left=left, right=right)\n",
        "            heapq.heappush(heap, parent)\n",
        "        return heapq.heappop(heap)\n",
        "\n",
        "    r = dict()\n",
        "\n",
        "    def dfs(head: Node, code=\"\"):\n",
        "        if head.left:\n",
        "            dfs(head.left, code + \"0\")\n",
        "        if head.right:\n",
        "            dfs(head.right, code + \"1\")\n",
        "        if not head.left and not head.right and head.info:\n",
        "            r[head.info] = code\n",
        "\n",
        "    root = build_tree()\n",
        "    dfs(root)\n",
        "    return r"
      ],
      "metadata": {
        "id": "JCW4uAwXsW6I"
      },
      "execution_count": null,
      "outputs": []
    },
    {
      "cell_type": "code",
      "source": [
        "huffman_code({\"a\": 45, \"c\": 12, \"b\": 13, \"d\":16, \"f\": 5, \"e\": 9})"
      ],
      "metadata": {
        "colab": {
          "base_uri": "https://localhost:8080/"
        },
        "id": "cmgUd7fvdXve",
        "outputId": "b3095d65-af5e-44e5-e5eb-b6145e19d87a"
      },
      "execution_count": null,
      "outputs": [
        {
          "output_type": "execute_result",
          "data": {
            "text/plain": [
              "{'a': '0', 'c': '100', 'b': '101', 'f': '1100', 'e': '1101', 'd': '111'}"
            ]
          },
          "metadata": {},
          "execution_count": 123
        }
      ]
    },
    {
      "cell_type": "markdown",
      "source": [
        "## 16.Arrange Characters\n",
        "\n",
        "Backtracking"
      ],
      "metadata": {
        "id": "oQnEfD-eovHz"
      }
    },
    {
      "cell_type": "code",
      "source": [
        "def arrange_characters(characters: List[chr]):\n",
        "    r = set()\n",
        "    ll = len(characters)\n",
        "    def backtracking(his: List[chr], choice: Set[int], lenn: int):\n",
        "        if lenn == ll:\n",
        "            r.add(\"\".join(his))\n",
        "            return\n",
        "        else:\n",
        "            for i, c in enumerate(characters):\n",
        "                if i in choice:\n",
        "                    continue\n",
        "                his.append(c)\n",
        "                choice.add(i)\n",
        "                backtracking(his, choice, lenn+1)\n",
        "                choice.remove(i)\n",
        "                his.pop()\n",
        "    backtracking(list(), set(), 0)\n",
        "    return r"
      ],
      "metadata": {
        "id": "2NgTJHcGouN_"
      },
      "execution_count": null,
      "outputs": []
    },
    {
      "cell_type": "code",
      "source": [
        "arrange_characters([\"a\",\"b\",\"b\"])"
      ],
      "metadata": {
        "id": "9tedw9m9rhFd",
        "colab": {
          "base_uri": "https://localhost:8080/"
        },
        "outputId": "70924f38-f882-43d8-8283-7b32d83c92ea"
      },
      "execution_count": null,
      "outputs": [
        {
          "output_type": "execute_result",
          "data": {
            "text/plain": [
              "{'abb', 'bab', 'bba'}"
            ]
          },
          "metadata": {},
          "execution_count": 125
        }
      ]
    },
    {
      "cell_type": "markdown",
      "source": [
        "## 17.Comparsion Numbers in Minimum Time\n",
        "Divide and Conquer"
      ],
      "metadata": {
        "id": "e_sQhDTIfBtj"
      }
    },
    {
      "cell_type": "code",
      "source": [
        "def find_max_min(arr, s, e):\n",
        "    if s == e:\n",
        "        return arr[s], arr[s]\n",
        "    elif e == s + 1:\n",
        "        if arr[s] >= arr[e]:\n",
        "            return arr[s], arr[e]\n",
        "        else:\n",
        "            return arr[e], arr[s]\n",
        "    else:\n",
        "        mid = (s + e) // 2\n",
        "        (max1, min1) = find_max_min(arr, s, mid)\n",
        "        (max2, min2) = find_max_min(arr, mid, e)\n",
        "        return max(max1, max2), min(min1,min2)"
      ],
      "metadata": {
        "id": "TPBpB78oZI-V"
      },
      "execution_count": null,
      "outputs": []
    },
    {
      "cell_type": "code",
      "source": [
        "find_max_min([3,5,4,1,9],0,4)"
      ],
      "metadata": {
        "id": "VtrazpcHhIea",
        "colab": {
          "base_uri": "https://localhost:8080/"
        },
        "outputId": "51563335-da31-488a-c77c-17bba1b0e692"
      },
      "execution_count": null,
      "outputs": [
        {
          "output_type": "execute_result",
          "data": {
            "text/plain": [
              "(9, 1)"
            ]
          },
          "metadata": {},
          "execution_count": 127
        }
      ]
    },
    {
      "cell_type": "markdown",
      "source": [
        "Compare $ 1.5n - 2  $ times"
      ],
      "metadata": {
        "id": "v50nVpm1jO8O"
      }
    },
    {
      "cell_type": "markdown",
      "source": [
        "## 17.Egyptian Fraction\n",
        "\n",
        "Greedy"
      ],
      "metadata": {
        "id": "HEl-62_XmqSV"
      }
    },
    {
      "cell_type": "code",
      "source": [
        "def egypian_fraction(a, b):\n",
        "    r = []\n",
        "    def fraction_subtraction(lh, rh):\n",
        "        (a, b), (c ,d) = lh, rh\n",
        "        return a * d - c * b,  b * d\n",
        "\n",
        "    def _egypian_fraction(a, b):\n",
        "        if a == 0:\n",
        "            return\n",
        "        c = math.ceil(b / a)\n",
        "        r.append(f\"1/{c}\")\n",
        "        a, b = fraction_subtraction((a, b), (1, c))\n",
        "        _egypian_fraction(a, b)\n",
        "    _egypian_fraction(a, b)\n",
        "    return r"
      ],
      "metadata": {
        "id": "x-bIl6abmpgC"
      },
      "execution_count": null,
      "outputs": []
    },
    {
      "cell_type": "code",
      "source": [
        "egypian_fraction(5, 6)"
      ],
      "metadata": {
        "colab": {
          "base_uri": "https://localhost:8080/"
        },
        "id": "1ZFnvKi8QK4v",
        "outputId": "73a6b01f-f61d-435e-b305-22acaa8805e0"
      },
      "execution_count": null,
      "outputs": [
        {
          "output_type": "execute_result",
          "data": {
            "text/plain": [
              "['1/2', '1/3']"
            ]
          },
          "metadata": {},
          "execution_count": 129
        }
      ]
    },
    {
      "cell_type": "code",
      "source": [
        "egypian_fraction(2, 3)"
      ],
      "metadata": {
        "colab": {
          "base_uri": "https://localhost:8080/"
        },
        "id": "hZT5Ucr4Se2X",
        "outputId": "8f3adad5-b31d-4955-ffd1-725df4cbe8f7"
      },
      "execution_count": null,
      "outputs": [
        {
          "output_type": "execute_result",
          "data": {
            "text/plain": [
              "['1/2', '1/6']"
            ]
          },
          "metadata": {},
          "execution_count": 130
        }
      ]
    },
    {
      "cell_type": "code",
      "source": [
        "egypian_fraction(12, 13)"
      ],
      "metadata": {
        "colab": {
          "base_uri": "https://localhost:8080/"
        },
        "id": "TaP5fW-RSWjL",
        "outputId": "234ec062-87e6-448e-de5a-14a8aaa9848b"
      },
      "execution_count": null,
      "outputs": [
        {
          "output_type": "execute_result",
          "data": {
            "text/plain": [
              "['1/2', '1/3', '1/12', '1/156']"
            ]
          },
          "metadata": {},
          "execution_count": 131
        }
      ]
    },
    {
      "cell_type": "markdown",
      "source": [
        "## 18.Longest Common Subsequence\n",
        "\n",
        "$ \\begin{equation}\n",
        "dp[i,j] = \n",
        "\\begin{cases}\n",
        "dp[i-1][j-1] + 1, & \\text{ $ s[i] = s[j] $ } \\\\\n",
        "max(dp[i-1][j], dp[i][j-1] ), & \\text{ $ s[i] \\neq s[j] $ }\n",
        "\\end{cases}\n",
        "\\end{equation}\n",
        "$"
      ],
      "metadata": {
        "id": "0nKIZarNmxEW"
      }
    },
    {
      "cell_type": "code",
      "source": [
        "def lcs(str1, str2):\n",
        "    ll1 = len(str1)\n",
        "    ll2 = len(str2)\n",
        "    dp = np.zeros((ll1+1, ll2+1),dtype=int)\n",
        "    for c in range(1, ll2+1):\n",
        "        for r in range(1, ll1+1):\n",
        "            if str1[r-1] == str2[c-1]:\n",
        "                dp[r][c] = dp[r-1][c-1] + 1\n",
        "            else:\n",
        "                dp[r][c] = max(dp[r-1][c], dp[r][c-1])\n",
        "    logging.info(dp)\n",
        "    return dp[-1][-1]"
      ],
      "metadata": {
        "id": "VhYUtNAIhO7s"
      },
      "execution_count": null,
      "outputs": []
    },
    {
      "cell_type": "code",
      "source": [
        "lcs(\"ABCDGH\", \"AEDFHR\")"
      ],
      "metadata": {
        "id": "1Jcov5LfncfV",
        "colab": {
          "base_uri": "https://localhost:8080/"
        },
        "outputId": "63f3ea96-ba01-40e3-853b-58c3db3a2f85"
      },
      "execution_count": null,
      "outputs": [
        {
          "output_type": "execute_result",
          "data": {
            "text/plain": [
              "3"
            ]
          },
          "metadata": {},
          "execution_count": 133
        }
      ]
    },
    {
      "cell_type": "code",
      "source": [
        "lcs(\"AGGTAB\", \"GXTXAYB\")"
      ],
      "metadata": {
        "id": "yUccnqrrnuVw",
        "colab": {
          "base_uri": "https://localhost:8080/"
        },
        "outputId": "e5bd29d4-01b3-4bc4-9da5-7b099f473795"
      },
      "execution_count": null,
      "outputs": [
        {
          "output_type": "execute_result",
          "data": {
            "text/plain": [
              "4"
            ]
          },
          "metadata": {},
          "execution_count": 134
        }
      ]
    },
    {
      "cell_type": "markdown",
      "source": [
        "# B. Methodology"
      ],
      "metadata": {
        "id": "5VHuUQvwVN_L"
      }
    },
    {
      "cell_type": "markdown",
      "source": [
        "### 1.Dynamic Programming"
      ],
      "metadata": {
        "id": "AoaQhnKLVii_"
      }
    },
    {
      "cell_type": "markdown",
      "source": [
        "The development of a dynamic-programming algorithm can be broken into a sequence of four steps.\n",
        "1. Characterize the structure of an optimal solution.\n",
        "2. Recursively define the value of an optimal solution.\n",
        "3. Compute the value of an optimal solution in a bottom-up fashion. \n",
        "4. Construct an optimal solution from computed information."
      ],
      "metadata": {
        "id": "rt1RRLHEYeLQ"
      }
    },
    {
      "cell_type": "markdown",
      "source": [
        "#### 1.1 optimal substructure property"
      ],
      "metadata": {
        "id": "MhshzzvhYCg5"
      }
    },
    {
      "cell_type": "markdown",
      "source": [
        "When the optimal solution of a problem contains the optimal solution of its sub-problem, it is said that the problem has the optimal sub-structure property. The optimal substructure property of the problem is the key feature that the problem can be solved by dynamic programming or greedy algorithm."
      ],
      "metadata": {
        "id": "SzI2EnD_YEHc"
      }
    },
    {
      "cell_type": "markdown",
      "source": [
        "### 2.Greedy Algorithm "
      ],
      "metadata": {
        "id": "7NWm2chFVnPn"
      }
    },
    {
      "cell_type": "markdown",
      "source": [
        "Greedy algorithm always makes the best choice at present. That is to say, the greedy algorithm\n",
        "does not consider the overall optimum, and the choice it makes is only the local optimum choice in a sense.In general, a greedy algorithm has five components:\n",
        "1. A candidate set, from which a solution is created\n",
        "2. A selection function, which chooses the best candidate to be added to the solution\n",
        "3. A feasibility function, that is used to determine if a candidate can be used to contribute to a solution\n",
        "4. An objective function, which assigns a value to a solution, or a partial solution, and\n",
        "5. A solution function, which will indicate when we have discovered a complete solution"
      ],
      "metadata": {
        "id": "Yys8LGqnYl9X"
      }
    },
    {
      "cell_type": "markdown",
      "source": [
        "### 3.Divide and Conquer"
      ],
      "metadata": {
        "id": "mBUULdK5WAqd"
      }
    },
    {
      "cell_type": "markdown",
      "source": [
        "The basic idea of divide-and-conquer is to decompose a problem of n_scale into k smaller sub- problems, which are independent of each other and the same as the original problem. Recursively solve these sub problems, and then merge the solutions of the sub problems to get the solution of the original problem.\n"
      ],
      "metadata": {
        "id": "3H0u9sEQYKLN"
      }
    },
    {
      "cell_type": "markdown",
      "source": [
        "#### 3.1 Quick Sort"
      ],
      "metadata": {
        "id": "q0uvHlCsU0DX"
      }
    },
    {
      "cell_type": "markdown",
      "source": [
        "Quicksort uses divide- and-conquer- algorithm to divide a list into two sub lists. The specific algorithm is described as follows:\n",
        "1. select an element from the sequence and call it \"pivot\";\n",
        "2. reorder the sequence. All elements smaller than the base value are placed in front of the\n",
        "benchmark, and those larger than the base value are placed behind the benchmark (the same number can be moved to any side). After the partition exits, the benchmark is in the middle of the sequence. This is called a partition operation;\n",
        "3. recursively sort the subsequences that are smaller than the baseline element and those that are greater than the baseline element."
      ],
      "metadata": {
        "id": "b_alkP8eYOX0"
      }
    },
    {
      "cell_type": "markdown",
      "source": [
        "### 4.Branch and Bound"
      ],
      "metadata": {
        "id": "q0kMg08_VGix"
      }
    },
    {
      "cell_type": "markdown",
      "source": [
        "1. Define a solution space for the problem. This space must include at least one (optimal) solution\n",
        "to the problem.\n",
        "2. Organize the solution space so that it can be searched easily.\n",
        "3. The typical organization is either a graph or a tree.\n",
        "4. Searched the solution space in a breadth-first manner using bounding functions to avoid\n",
        "moving into subspaces that cannot possibly lead to the answer."
      ],
      "metadata": {
        "id": "cl7Qm0EnYVLY"
      }
    },
    {
      "cell_type": "markdown",
      "source": [
        "### 5.Backtracking"
      ],
      "metadata": {
        "id": "eAOVDWoTV0jp"
      }
    },
    {
      "cell_type": "markdown",
      "source": [
        "Backtracking is a systematic and jumping search algorithm. When using it to solve problems, the solution space of the problem should be clearly defined. After determining the organizational structure of the solution space, the retrospective method searches the whole solution space in a depth-first manner starting from the starting node (root node). This starting node becomes a live node, and also becomes the current expansion node. At the current extension node, the search moves to a new node in depth. This new node becomes a new active node and becomes the current expansion node. If the current extended node can not move in the depth direction, the current extended node will become a dead node. At this point, the loopback should be moved back to the nearest loopback node and make the loopback node the current extended node. In this way, the backtracking method searches the solution space recursively until it finds the required solution or there are no active nodes in the solution space."
      ],
      "metadata": {
        "id": "g9N3TqaaX7M7"
      }
    },
    {
      "cell_type": "markdown",
      "source": [
        "### 6.Compare Greedy Alogrithm and Dynamic Programming"
      ],
      "metadata": {
        "id": "4pLTxJj7WO0u"
      }
    },
    {
      "cell_type": "markdown",
      "source": [
        "The basic idea of greedy is to approach the given goal step by step from an initial solution of the problem in order to get a better solution as soon as possible. The algorithm stops when a step in an algorithm can't continue.\n",
        "But greedy algorithms have some problems:\n",
        "1. There is no guarantee that the final solution is the best.\n",
        "2. Can not be used to find the maximum or minimum solution problem; \n",
        "3. Only find the range of feasible solutions satisfying some constraints.\n",
        "\n",
        "Greedy algorithm always makes the best choice at present, that is to say, greedy algorithm does not consider the overall optimum, the choice it makes is only the local optimum choice in a sense. Of course, we hope that the final result from the local optimal selection will be the global optimal solution of the problem.\n",
        "\n",
        "The basic idea of dynamic programming: Dynamic programming algorithms are usually used to solve problems with some optimal properties. In such problems, there may be many feasible solutions. Each solution corresponds to a value, and we want to find the solution with the best value.\n",
        "\n",
        "The essence of dynamic programming is to divide and solve redundancy. Therefore, dynamic programming is an algorithmic strategy that decomposes problem instances into smaller and similar sub-problems, and stores the solutions of sub-problems to avoid duplication of computation in order to solve optimization problems.\n",
        "\n",
        "It can be seen that the dynamic programming algorithm is similar to the greedy algorithm. Both of them generalize the problem instances into smaller and similar sub-problems, and generate a global optimal solution by solving sub-problems.\n",
        "\n",
        "Dynamic programming is different from the greedy algorithm.\n",
        "\n",
        "Compared with the greedy strategy, the current choice of the greedy strategy may depend on all the choices already made, but not on the choices and sub-problems to be made. Therefore, the greedy method makes greedy choices step by step from top to bottom, so once the solution of each sub-problem is found recursively, the solution of the sub-problem can be merged into the solution of the problem from bottom to top. However, if the current choice may depend on the solution of the sub-problem, it is difficult to achieve the global optimal solution through local greedy strategy.\n",
        "\n",
        "However, unlike the greedy approach, dynamic programming allows these sub-problems to be independent (i.e., each sub-problem may contain a common sub-problem). It is also allowed to make a choice through the solution of its own sub-problems. This method solves each sub-problem only once, and saves the results so as to avoid repeated calculation every time it encounters.\n",
        "\n",
        "Therefore, the dynamic programming has a remarkable feature, that is, the sub-problems in the corresponding sub-problem tree present a lot of repetition. The key of dynamic programming is to solve the recurring sub-problems only at the first encounter and save the answers so that they can be directly quoted in future encounters without resolving them again.\n"
      ],
      "metadata": {
        "id": "2lCwqxXXXBKH"
      }
    },
    {
      "cell_type": "markdown",
      "source": [
        "### 7.Recursive Algorithm"
      ],
      "metadata": {
        "id": "_5aLPaOBW2Dt"
      }
    },
    {
      "cell_type": "markdown",
      "source": [
        "The recursion is to transform a \"big problem\" that can not be solved directly into one or\n",
        "several \"small problems\" similar to the original problem to solve, and then further decompose these \"small problems\" into smaller \"small problems\" to solve, so as to decompose until each \"small problem\" can be solved directly (at this time decomposed into recursive exports). After solving the \"small problem\" step by step, we can return to the solution of the \"big problem\". Recursion is a basic method of describing and solving problems, which means that subroutines (or\n",
        "functions) call themselves directly or indirectly through a series of call statements. Recursion has two basic elements:\n",
        "1. Boundary conditions: determine when recursion ends;\n",
        "2. Recursive model: how to decompose big problems into small ones.\n",
        "\n",
        "Recursive algorithm design usually has the following two steps:\n",
        "1. simple base case (or cases)—a terminating scenario that does not use recursion to produce an\n",
        "answer\n",
        "2. A set of rules that reduce all other cases toward the base case"
      ],
      "metadata": {
        "id": "Gsf8LeH6Xwqq"
      }
    },
    {
      "cell_type": "markdown",
      "source": [
        "# C. Blank Fill"
      ],
      "metadata": {
        "id": "wq9jUZTiaAPZ"
      }
    }
  ]
}